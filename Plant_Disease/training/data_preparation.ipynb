{
 "cells": [
  {
   "cell_type": "code",
   "execution_count": 1,
   "id": "c5ccd83c-ac2e-4e30-8290-468c0cafe976",
   "metadata": {},
   "outputs": [],
   "source": [
    "import tensorflow as tf\n",
    "from tensorflow.keras import models, layers\n",
    "from tensorflow.keras.models import Sequential\n",
    "from tensorflow.keras.metrics import categorical_crossentropy\n",
    "from tensorflow.keras.preprocessing.image import ImageDataGenerator\n",
    "from tensorflow.keras.applications.mobilenet_v2 import MobileNetV2, preprocess_input\n",
    "from sklearn.metrics import confusion_matrix\n",
    "import itertools\n",
    "import os\n",
    "import shutil\n",
    "import random\n",
    "import glob\n",
    "import matplotlib.pyplot as plt\n",
    "import warnings\n",
    "from pathlib import Path\n",
    "import numpy as np\n",
    "warnings.simplefilter(action='ignore', category=FutureWarning)\n",
    "%matplotlib inline"
   ]
  },
  {
   "cell_type": "code",
   "execution_count": 51,
   "id": "1467e6ab-a1a1-403e-8c04-fd57017cda2e",
   "metadata": {},
   "outputs": [],
   "source": [
    "#converting the png folders to jpg\n",
    "from PIL import Image\n",
    "os.chdir('..')\n",
    "png_folder = 'Wheat__Yellow_Rust'\n",
    "os.chdir(png_folder)\n",
    "\n",
    "for file in glob.glob('*png'):\n",
    "    img = Image.open(file).convert('RGB')\n",
    "    jpg_file = file.replace('.png', '.jpg')\n",
    "    img.save(jpg_file, 'JPEG')"
   ]
  },
  {
   "cell_type": "code",
   "execution_count": 77,
   "id": "3f377f7d-323f-44f8-aaee-c17e774c978c",
   "metadata": {},
   "outputs": [],
   "source": [
    "# Change the working directory to the class folder\n",
    "os.chdir('..')\n",
    "os.chdir('Potato__Healthy(no_aug)')\n",
    "\n",
    "# Ensure that the 'train', 'valid', and 'test' directories exist\n",
    "if not os.path.isdir('train'):\n",
    "    os.makedirs('train')\n",
    "    os.makedirs('valid')\n",
    "    os.makedirs('test')\n",
    "\n",
    "# Move images to the 'train', 'valid', and 'test' folders\n",
    "for c in random.sample(glob.glob('*.jpg'), 306):\n",
    "    shutil.move(c, 'train')\n",
    "\n",
    "for c in random.sample(glob.glob('*.jpg'), 50):\n",
    "    shutil.move(c, 'valid')\n",
    "\n",
    "for c in random.sample(glob.glob('*.jpg'), 50):\n",
    "    shutil.move(c, 'test')"
   ]
  },
  {
   "cell_type": "code",
   "execution_count": 10,
   "id": "b673cfa5-4162-4f1c-864b-a36ed717ad81",
   "metadata": {},
   "outputs": [
    {
     "name": "stdout",
     "output_type": "stream",
     "text": [
      "Failed to process C:\\Users\\HP\\Code\\Plant_Disease\\training\\Plant_Disease_Dataset\\PLD_wo_aug_256\\test\\Background_without_leaves\\.: [Errno 13] Permission denied: 'C:\\\\Users\\\\HP\\\\Code\\\\Plant_Disease\\\\training\\\\Plant_Disease_Dataset\\\\PLD_wo_aug_256\\\\test\\\\Background_without_leaves\\\\.'\n",
      "Failed to process C:\\Users\\HP\\Code\\Plant_Disease\\training\\Plant_Disease_Dataset\\PLD_wo_aug_256\\test\\Corn__Gray_Leaf_Spot\\.: [Errno 13] Permission denied: 'C:\\\\Users\\\\HP\\\\Code\\\\Plant_Disease\\\\training\\\\Plant_Disease_Dataset\\\\PLD_wo_aug_256\\\\test\\\\Corn__Gray_Leaf_Spot\\\\.'\n",
      "Failed to process C:\\Users\\HP\\Code\\Plant_Disease\\training\\Plant_Disease_Dataset\\PLD_wo_aug_256\\test\\Corn__Healthy\\.: [Errno 13] Permission denied: 'C:\\\\Users\\\\HP\\\\Code\\\\Plant_Disease\\\\training\\\\Plant_Disease_Dataset\\\\PLD_wo_aug_256\\\\test\\\\Corn__Healthy\\\\.'\n",
      "Failed to process C:\\Users\\HP\\Code\\Plant_Disease\\training\\Plant_Disease_Dataset\\PLD_wo_aug_256\\test\\Corn__Northern_Leaf_Blight\\.: [Errno 13] Permission denied: 'C:\\\\Users\\\\HP\\\\Code\\\\Plant_Disease\\\\training\\\\Plant_Disease_Dataset\\\\PLD_wo_aug_256\\\\test\\\\Corn__Northern_Leaf_Blight\\\\.'\n",
      "Failed to process C:\\Users\\HP\\Code\\Plant_Disease\\training\\Plant_Disease_Dataset\\PLD_wo_aug_256\\test\\Grape__Downey_Mildew\\.: [Errno 13] Permission denied: 'C:\\\\Users\\\\HP\\\\Code\\\\Plant_Disease\\\\training\\\\Plant_Disease_Dataset\\\\PLD_wo_aug_256\\\\test\\\\Grape__Downey_Mildew\\\\.'\n",
      "Failed to process C:\\Users\\HP\\Code\\Plant_Disease\\training\\Plant_Disease_Dataset\\PLD_wo_aug_256\\test\\Grape__Healthy\\.: [Errno 13] Permission denied: 'C:\\\\Users\\\\HP\\\\Code\\\\Plant_Disease\\\\training\\\\Plant_Disease_Dataset\\\\PLD_wo_aug_256\\\\test\\\\Grape__Healthy\\\\.'\n",
      "Failed to process C:\\Users\\HP\\Code\\Plant_Disease\\training\\Plant_Disease_Dataset\\PLD_wo_aug_256\\test\\Grape__Powdery_Mildew\\.: [Errno 13] Permission denied: 'C:\\\\Users\\\\HP\\\\Code\\\\Plant_Disease\\\\training\\\\Plant_Disease_Dataset\\\\PLD_wo_aug_256\\\\test\\\\Grape__Powdery_Mildew\\\\.'\n",
      "Failed to process C:\\Users\\HP\\Code\\Plant_Disease\\training\\Plant_Disease_Dataset\\PLD_wo_aug_256\\test\\Olive__Healthy\\.: [Errno 13] Permission denied: 'C:\\\\Users\\\\HP\\\\Code\\\\Plant_Disease\\\\training\\\\Plant_Disease_Dataset\\\\PLD_wo_aug_256\\\\test\\\\Olive__Healthy\\\\.'\n",
      "Failed to process C:\\Users\\HP\\Code\\Plant_Disease\\training\\Plant_Disease_Dataset\\PLD_wo_aug_256\\test\\Olive__Peacock_Spot\\.: [Errno 13] Permission denied: 'C:\\\\Users\\\\HP\\\\Code\\\\Plant_Disease\\\\training\\\\Plant_Disease_Dataset\\\\PLD_wo_aug_256\\\\test\\\\Olive__Peacock_Spot\\\\.'\n",
      "Failed to process C:\\Users\\HP\\Code\\Plant_Disease\\training\\Plant_Disease_Dataset\\PLD_wo_aug_256\\test\\Olive__Rust_Mite\\.: [Errno 13] Permission denied: 'C:\\\\Users\\\\HP\\\\Code\\\\Plant_Disease\\\\training\\\\Plant_Disease_Dataset\\\\PLD_wo_aug_256\\\\test\\\\Olive__Rust_Mite\\\\.'\n",
      "Failed to process C:\\Users\\HP\\Code\\Plant_Disease\\training\\Plant_Disease_Dataset\\PLD_wo_aug_256\\test\\Potato__Early_Blight\\.: [Errno 13] Permission denied: 'C:\\\\Users\\\\HP\\\\Code\\\\Plant_Disease\\\\training\\\\Plant_Disease_Dataset\\\\PLD_wo_aug_256\\\\test\\\\Potato__Early_Blight\\\\.'\n",
      "Failed to process C:\\Users\\HP\\Code\\Plant_Disease\\training\\Plant_Disease_Dataset\\PLD_wo_aug_256\\test\\Potato__Healthy\\.: [Errno 13] Permission denied: 'C:\\\\Users\\\\HP\\\\Code\\\\Plant_Disease\\\\training\\\\Plant_Disease_Dataset\\\\PLD_wo_aug_256\\\\test\\\\Potato__Healthy\\\\.'\n",
      "Failed to process C:\\Users\\HP\\Code\\Plant_Disease\\training\\Plant_Disease_Dataset\\PLD_wo_aug_256\\test\\Potato__Late_blight\\.: [Errno 13] Permission denied: 'C:\\\\Users\\\\HP\\\\Code\\\\Plant_Disease\\\\training\\\\Plant_Disease_Dataset\\\\PLD_wo_aug_256\\\\test\\\\Potato__Late_blight\\\\.'\n",
      "Failed to process C:\\Users\\HP\\Code\\Plant_Disease\\training\\Plant_Disease_Dataset\\PLD_wo_aug_256\\test\\Tomato__Early_blight\\.: [Errno 13] Permission denied: 'C:\\\\Users\\\\HP\\\\Code\\\\Plant_Disease\\\\training\\\\Plant_Disease_Dataset\\\\PLD_wo_aug_256\\\\test\\\\Tomato__Early_blight\\\\.'\n",
      "Failed to process C:\\Users\\HP\\Code\\Plant_Disease\\training\\Plant_Disease_Dataset\\PLD_wo_aug_256\\test\\Tomato__Healthy\\.: [Errno 13] Permission denied: 'C:\\\\Users\\\\HP\\\\Code\\\\Plant_Disease\\\\training\\\\Plant_Disease_Dataset\\\\PLD_wo_aug_256\\\\test\\\\Tomato__Healthy\\\\.'\n",
      "Failed to process C:\\Users\\HP\\Code\\Plant_Disease\\training\\Plant_Disease_Dataset\\PLD_wo_aug_256\\test\\Tomato__Late_Blight\\.: [Errno 13] Permission denied: 'C:\\\\Users\\\\HP\\\\Code\\\\Plant_Disease\\\\training\\\\Plant_Disease_Dataset\\\\PLD_wo_aug_256\\\\test\\\\Tomato__Late_Blight\\\\.'\n",
      "Failed to process C:\\Users\\HP\\Code\\Plant_Disease\\training\\Plant_Disease_Dataset\\PLD_wo_aug_256\\test\\Wheat__Healthy\\.: [Errno 13] Permission denied: 'C:\\\\Users\\\\HP\\\\Code\\\\Plant_Disease\\\\training\\\\Plant_Disease_Dataset\\\\PLD_wo_aug_256\\\\test\\\\Wheat__Healthy\\\\.'\n",
      "Failed to process C:\\Users\\HP\\Code\\Plant_Disease\\training\\Plant_Disease_Dataset\\PLD_wo_aug_256\\test\\Wheat__Septoria\\.: [Errno 13] Permission denied: 'C:\\\\Users\\\\HP\\\\Code\\\\Plant_Disease\\\\training\\\\Plant_Disease_Dataset\\\\PLD_wo_aug_256\\\\test\\\\Wheat__Septoria\\\\.'\n",
      "Failed to process C:\\Users\\HP\\Code\\Plant_Disease\\training\\Plant_Disease_Dataset\\PLD_wo_aug_256\\test\\Wheat__Yellow_Rust\\.: [Errno 13] Permission denied: 'C:\\\\Users\\\\HP\\\\Code\\\\Plant_Disease\\\\training\\\\Plant_Disease_Dataset\\\\PLD_wo_aug_256\\\\test\\\\Wheat__Yellow_Rust\\\\.'\n",
      "Failed to process C:\\Users\\HP\\Code\\Plant_Disease\\training\\Plant_Disease_Dataset\\PLD_wo_aug_256\\train\\Background_without_leaves\\.: [Errno 13] Permission denied: 'C:\\\\Users\\\\HP\\\\Code\\\\Plant_Disease\\\\training\\\\Plant_Disease_Dataset\\\\PLD_wo_aug_256\\\\train\\\\Background_without_leaves\\\\.'\n",
      "Failed to process C:\\Users\\HP\\Code\\Plant_Disease\\training\\Plant_Disease_Dataset\\PLD_wo_aug_256\\train\\Corn__Gray_Leaf_Spot\\.: [Errno 13] Permission denied: 'C:\\\\Users\\\\HP\\\\Code\\\\Plant_Disease\\\\training\\\\Plant_Disease_Dataset\\\\PLD_wo_aug_256\\\\train\\\\Corn__Gray_Leaf_Spot\\\\.'\n",
      "Failed to process C:\\Users\\HP\\Code\\Plant_Disease\\training\\Plant_Disease_Dataset\\PLD_wo_aug_256\\train\\Corn__Healthy\\.: [Errno 13] Permission denied: 'C:\\\\Users\\\\HP\\\\Code\\\\Plant_Disease\\\\training\\\\Plant_Disease_Dataset\\\\PLD_wo_aug_256\\\\train\\\\Corn__Healthy\\\\.'\n",
      "Failed to process C:\\Users\\HP\\Code\\Plant_Disease\\training\\Plant_Disease_Dataset\\PLD_wo_aug_256\\train\\Corn__Northern_Leaf_Blight\\.: [Errno 13] Permission denied: 'C:\\\\Users\\\\HP\\\\Code\\\\Plant_Disease\\\\training\\\\Plant_Disease_Dataset\\\\PLD_wo_aug_256\\\\train\\\\Corn__Northern_Leaf_Blight\\\\.'\n",
      "Failed to process C:\\Users\\HP\\Code\\Plant_Disease\\training\\Plant_Disease_Dataset\\PLD_wo_aug_256\\train\\Grape__Downey_Mildew\\.: [Errno 13] Permission denied: 'C:\\\\Users\\\\HP\\\\Code\\\\Plant_Disease\\\\training\\\\Plant_Disease_Dataset\\\\PLD_wo_aug_256\\\\train\\\\Grape__Downey_Mildew\\\\.'\n",
      "Failed to process C:\\Users\\HP\\Code\\Plant_Disease\\training\\Plant_Disease_Dataset\\PLD_wo_aug_256\\train\\Grape__Healthy\\.: [Errno 13] Permission denied: 'C:\\\\Users\\\\HP\\\\Code\\\\Plant_Disease\\\\training\\\\Plant_Disease_Dataset\\\\PLD_wo_aug_256\\\\train\\\\Grape__Healthy\\\\.'\n",
      "Failed to process C:\\Users\\HP\\Code\\Plant_Disease\\training\\Plant_Disease_Dataset\\PLD_wo_aug_256\\train\\Grape__Powdery_Mildew\\.: [Errno 13] Permission denied: 'C:\\\\Users\\\\HP\\\\Code\\\\Plant_Disease\\\\training\\\\Plant_Disease_Dataset\\\\PLD_wo_aug_256\\\\train\\\\Grape__Powdery_Mildew\\\\.'\n",
      "Failed to process C:\\Users\\HP\\Code\\Plant_Disease\\training\\Plant_Disease_Dataset\\PLD_wo_aug_256\\train\\Olive__Healthy\\.: [Errno 13] Permission denied: 'C:\\\\Users\\\\HP\\\\Code\\\\Plant_Disease\\\\training\\\\Plant_Disease_Dataset\\\\PLD_wo_aug_256\\\\train\\\\Olive__Healthy\\\\.'\n",
      "Failed to process C:\\Users\\HP\\Code\\Plant_Disease\\training\\Plant_Disease_Dataset\\PLD_wo_aug_256\\train\\Olive__Peacock_Spot\\.: [Errno 13] Permission denied: 'C:\\\\Users\\\\HP\\\\Code\\\\Plant_Disease\\\\training\\\\Plant_Disease_Dataset\\\\PLD_wo_aug_256\\\\train\\\\Olive__Peacock_Spot\\\\.'\n",
      "Failed to process C:\\Users\\HP\\Code\\Plant_Disease\\training\\Plant_Disease_Dataset\\PLD_wo_aug_256\\train\\Olive__Rust_Mite\\.: [Errno 13] Permission denied: 'C:\\\\Users\\\\HP\\\\Code\\\\Plant_Disease\\\\training\\\\Plant_Disease_Dataset\\\\PLD_wo_aug_256\\\\train\\\\Olive__Rust_Mite\\\\.'\n",
      "Failed to process C:\\Users\\HP\\Code\\Plant_Disease\\training\\Plant_Disease_Dataset\\PLD_wo_aug_256\\train\\Potato__Early_Blight\\.: [Errno 13] Permission denied: 'C:\\\\Users\\\\HP\\\\Code\\\\Plant_Disease\\\\training\\\\Plant_Disease_Dataset\\\\PLD_wo_aug_256\\\\train\\\\Potato__Early_Blight\\\\.'\n",
      "Failed to process C:\\Users\\HP\\Code\\Plant_Disease\\training\\Plant_Disease_Dataset\\PLD_wo_aug_256\\train\\Potato__Healthy\\.: [Errno 13] Permission denied: 'C:\\\\Users\\\\HP\\\\Code\\\\Plant_Disease\\\\training\\\\Plant_Disease_Dataset\\\\PLD_wo_aug_256\\\\train\\\\Potato__Healthy\\\\.'\n",
      "Failed to process C:\\Users\\HP\\Code\\Plant_Disease\\training\\Plant_Disease_Dataset\\PLD_wo_aug_256\\train\\Potato__Late_blight\\.: [Errno 13] Permission denied: 'C:\\\\Users\\\\HP\\\\Code\\\\Plant_Disease\\\\training\\\\Plant_Disease_Dataset\\\\PLD_wo_aug_256\\\\train\\\\Potato__Late_blight\\\\.'\n",
      "Failed to process C:\\Users\\HP\\Code\\Plant_Disease\\training\\Plant_Disease_Dataset\\PLD_wo_aug_256\\train\\Tomato__Early_blight\\.: [Errno 13] Permission denied: 'C:\\\\Users\\\\HP\\\\Code\\\\Plant_Disease\\\\training\\\\Plant_Disease_Dataset\\\\PLD_wo_aug_256\\\\train\\\\Tomato__Early_blight\\\\.'\n",
      "Failed to process C:\\Users\\HP\\Code\\Plant_Disease\\training\\Plant_Disease_Dataset\\PLD_wo_aug_256\\train\\Tomato__Healthy\\.: [Errno 13] Permission denied: 'C:\\\\Users\\\\HP\\\\Code\\\\Plant_Disease\\\\training\\\\Plant_Disease_Dataset\\\\PLD_wo_aug_256\\\\train\\\\Tomato__Healthy\\\\.'\n",
      "Failed to process C:\\Users\\HP\\Code\\Plant_Disease\\training\\Plant_Disease_Dataset\\PLD_wo_aug_256\\train\\Tomato__Late_Blight\\.: [Errno 13] Permission denied: 'C:\\\\Users\\\\HP\\\\Code\\\\Plant_Disease\\\\training\\\\Plant_Disease_Dataset\\\\PLD_wo_aug_256\\\\train\\\\Tomato__Late_Blight\\\\.'\n",
      "Failed to process C:\\Users\\HP\\Code\\Plant_Disease\\training\\Plant_Disease_Dataset\\PLD_wo_aug_256\\train\\Wheat__Healthy\\.: [Errno 13] Permission denied: 'C:\\\\Users\\\\HP\\\\Code\\\\Plant_Disease\\\\training\\\\Plant_Disease_Dataset\\\\PLD_wo_aug_256\\\\train\\\\Wheat__Healthy\\\\.'\n",
      "Failed to process C:\\Users\\HP\\Code\\Plant_Disease\\training\\Plant_Disease_Dataset\\PLD_wo_aug_256\\train\\Wheat__Septoria\\.: [Errno 13] Permission denied: 'C:\\\\Users\\\\HP\\\\Code\\\\Plant_Disease\\\\training\\\\Plant_Disease_Dataset\\\\PLD_wo_aug_256\\\\train\\\\Wheat__Septoria\\\\.'\n",
      "Failed to process C:\\Users\\HP\\Code\\Plant_Disease\\training\\Plant_Disease_Dataset\\PLD_wo_aug_256\\train\\Wheat__Yellow_Rust\\.: [Errno 13] Permission denied: 'C:\\\\Users\\\\HP\\\\Code\\\\Plant_Disease\\\\training\\\\Plant_Disease_Dataset\\\\PLD_wo_aug_256\\\\train\\\\Wheat__Yellow_Rust\\\\.'\n",
      "Failed to process C:\\Users\\HP\\Code\\Plant_Disease\\training\\Plant_Disease_Dataset\\PLD_wo_aug_256\\valid\\Background_without_leaves\\.: [Errno 13] Permission denied: 'C:\\\\Users\\\\HP\\\\Code\\\\Plant_Disease\\\\training\\\\Plant_Disease_Dataset\\\\PLD_wo_aug_256\\\\valid\\\\Background_without_leaves\\\\.'\n",
      "Failed to process C:\\Users\\HP\\Code\\Plant_Disease\\training\\Plant_Disease_Dataset\\PLD_wo_aug_256\\valid\\Corn__Gray_Leaf_Spot\\.: [Errno 13] Permission denied: 'C:\\\\Users\\\\HP\\\\Code\\\\Plant_Disease\\\\training\\\\Plant_Disease_Dataset\\\\PLD_wo_aug_256\\\\valid\\\\Corn__Gray_Leaf_Spot\\\\.'\n",
      "Failed to process C:\\Users\\HP\\Code\\Plant_Disease\\training\\Plant_Disease_Dataset\\PLD_wo_aug_256\\valid\\Corn__Healthy\\.: [Errno 13] Permission denied: 'C:\\\\Users\\\\HP\\\\Code\\\\Plant_Disease\\\\training\\\\Plant_Disease_Dataset\\\\PLD_wo_aug_256\\\\valid\\\\Corn__Healthy\\\\.'\n",
      "Failed to process C:\\Users\\HP\\Code\\Plant_Disease\\training\\Plant_Disease_Dataset\\PLD_wo_aug_256\\valid\\Corn__Northern_Leaf_Blight\\.: [Errno 13] Permission denied: 'C:\\\\Users\\\\HP\\\\Code\\\\Plant_Disease\\\\training\\\\Plant_Disease_Dataset\\\\PLD_wo_aug_256\\\\valid\\\\Corn__Northern_Leaf_Blight\\\\.'\n",
      "Failed to process C:\\Users\\HP\\Code\\Plant_Disease\\training\\Plant_Disease_Dataset\\PLD_wo_aug_256\\valid\\Grape__Downey_Mildew\\.: [Errno 13] Permission denied: 'C:\\\\Users\\\\HP\\\\Code\\\\Plant_Disease\\\\training\\\\Plant_Disease_Dataset\\\\PLD_wo_aug_256\\\\valid\\\\Grape__Downey_Mildew\\\\.'\n",
      "Failed to process C:\\Users\\HP\\Code\\Plant_Disease\\training\\Plant_Disease_Dataset\\PLD_wo_aug_256\\valid\\Grape__Healthy\\.: [Errno 13] Permission denied: 'C:\\\\Users\\\\HP\\\\Code\\\\Plant_Disease\\\\training\\\\Plant_Disease_Dataset\\\\PLD_wo_aug_256\\\\valid\\\\Grape__Healthy\\\\.'\n",
      "Failed to process C:\\Users\\HP\\Code\\Plant_Disease\\training\\Plant_Disease_Dataset\\PLD_wo_aug_256\\valid\\Grape__Powdery_Mildew\\.: [Errno 13] Permission denied: 'C:\\\\Users\\\\HP\\\\Code\\\\Plant_Disease\\\\training\\\\Plant_Disease_Dataset\\\\PLD_wo_aug_256\\\\valid\\\\Grape__Powdery_Mildew\\\\.'\n",
      "Failed to process C:\\Users\\HP\\Code\\Plant_Disease\\training\\Plant_Disease_Dataset\\PLD_wo_aug_256\\valid\\Olive__Healthy\\.: [Errno 13] Permission denied: 'C:\\\\Users\\\\HP\\\\Code\\\\Plant_Disease\\\\training\\\\Plant_Disease_Dataset\\\\PLD_wo_aug_256\\\\valid\\\\Olive__Healthy\\\\.'\n",
      "Failed to process C:\\Users\\HP\\Code\\Plant_Disease\\training\\Plant_Disease_Dataset\\PLD_wo_aug_256\\valid\\Olive__Peacock_Spot\\.: [Errno 13] Permission denied: 'C:\\\\Users\\\\HP\\\\Code\\\\Plant_Disease\\\\training\\\\Plant_Disease_Dataset\\\\PLD_wo_aug_256\\\\valid\\\\Olive__Peacock_Spot\\\\.'\n",
      "Failed to process C:\\Users\\HP\\Code\\Plant_Disease\\training\\Plant_Disease_Dataset\\PLD_wo_aug_256\\valid\\Olive__Rust_Mite\\.: [Errno 13] Permission denied: 'C:\\\\Users\\\\HP\\\\Code\\\\Plant_Disease\\\\training\\\\Plant_Disease_Dataset\\\\PLD_wo_aug_256\\\\valid\\\\Olive__Rust_Mite\\\\.'\n",
      "Failed to process C:\\Users\\HP\\Code\\Plant_Disease\\training\\Plant_Disease_Dataset\\PLD_wo_aug_256\\valid\\Potato__Early_Blight\\.: [Errno 13] Permission denied: 'C:\\\\Users\\\\HP\\\\Code\\\\Plant_Disease\\\\training\\\\Plant_Disease_Dataset\\\\PLD_wo_aug_256\\\\valid\\\\Potato__Early_Blight\\\\.'\n",
      "Failed to process C:\\Users\\HP\\Code\\Plant_Disease\\training\\Plant_Disease_Dataset\\PLD_wo_aug_256\\valid\\Potato__Healthy\\.: [Errno 13] Permission denied: 'C:\\\\Users\\\\HP\\\\Code\\\\Plant_Disease\\\\training\\\\Plant_Disease_Dataset\\\\PLD_wo_aug_256\\\\valid\\\\Potato__Healthy\\\\.'\n",
      "Failed to process C:\\Users\\HP\\Code\\Plant_Disease\\training\\Plant_Disease_Dataset\\PLD_wo_aug_256\\valid\\Potato__Late_blight\\.: [Errno 13] Permission denied: 'C:\\\\Users\\\\HP\\\\Code\\\\Plant_Disease\\\\training\\\\Plant_Disease_Dataset\\\\PLD_wo_aug_256\\\\valid\\\\Potato__Late_blight\\\\.'\n",
      "Failed to process C:\\Users\\HP\\Code\\Plant_Disease\\training\\Plant_Disease_Dataset\\PLD_wo_aug_256\\valid\\Tomato__Early_blight\\.: [Errno 13] Permission denied: 'C:\\\\Users\\\\HP\\\\Code\\\\Plant_Disease\\\\training\\\\Plant_Disease_Dataset\\\\PLD_wo_aug_256\\\\valid\\\\Tomato__Early_blight\\\\.'\n",
      "Failed to process C:\\Users\\HP\\Code\\Plant_Disease\\training\\Plant_Disease_Dataset\\PLD_wo_aug_256\\valid\\Tomato__Healthy\\.: [Errno 13] Permission denied: 'C:\\\\Users\\\\HP\\\\Code\\\\Plant_Disease\\\\training\\\\Plant_Disease_Dataset\\\\PLD_wo_aug_256\\\\valid\\\\Tomato__Healthy\\\\.'\n",
      "Failed to process C:\\Users\\HP\\Code\\Plant_Disease\\training\\Plant_Disease_Dataset\\PLD_wo_aug_256\\valid\\Tomato__Late_Blight\\.: [Errno 13] Permission denied: 'C:\\\\Users\\\\HP\\\\Code\\\\Plant_Disease\\\\training\\\\Plant_Disease_Dataset\\\\PLD_wo_aug_256\\\\valid\\\\Tomato__Late_Blight\\\\.'\n",
      "Failed to process C:\\Users\\HP\\Code\\Plant_Disease\\training\\Plant_Disease_Dataset\\PLD_wo_aug_256\\valid\\Wheat__Healthy\\.: [Errno 13] Permission denied: 'C:\\\\Users\\\\HP\\\\Code\\\\Plant_Disease\\\\training\\\\Plant_Disease_Dataset\\\\PLD_wo_aug_256\\\\valid\\\\Wheat__Healthy\\\\.'\n",
      "Failed to process C:\\Users\\HP\\Code\\Plant_Disease\\training\\Plant_Disease_Dataset\\PLD_wo_aug_256\\valid\\Wheat__Septoria\\.: [Errno 13] Permission denied: 'C:\\\\Users\\\\HP\\\\Code\\\\Plant_Disease\\\\training\\\\Plant_Disease_Dataset\\\\PLD_wo_aug_256\\\\valid\\\\Wheat__Septoria\\\\.'\n",
      "Failed to process C:\\Users\\HP\\Code\\Plant_Disease\\training\\Plant_Disease_Dataset\\PLD_wo_aug_256\\valid\\Wheat__Yellow_Rust\\.: [Errno 13] Permission denied: 'C:\\\\Users\\\\HP\\\\Code\\\\Plant_Disease\\\\training\\\\Plant_Disease_Dataset\\\\PLD_wo_aug_256\\\\valid\\\\Wheat__Yellow_Rust\\\\.'\n"
     ]
    }
   ],
   "source": [
    "# Uniforming the size of the images\n",
    "from PIL import Image, ImageEnhance\n",
    "\n",
    "base_input = r\"C:\\Users\\HP\\Code\\Plant_Disease\\training\\Plant_Disease_Dataset\\PLD_wo_aug_256\"\n",
    "base_output = r\"C:\\Users\\HP\\Code\\Plant_Disease\\training\\Plant_Disease_Dataset\\PLD_wo_aug_224\"\n",
    "os.makedirs(base_output, exist_ok=True)\n",
    "\n",
    "target_size = (224, 224)\n",
    "\n",
    "# Loop through each class folder\n",
    "for class_folder in os.listdir(base_input):\n",
    "    class_path = os.path.join(base_input, class_folder)\n",
    "\n",
    "    if os.path.isdir(class_path):\n",
    "        # Create the class folder in the output directory\n",
    "        output_class_path = os.path.join(base_output, class_folder)\n",
    "        os.makedirs(output_class_path, exist_ok=True)\n",
    "\n",
    "        # Loop through the subfolders\n",
    "        for subset in [\n",
    "            'Background_without_leaves', \n",
    "            'Corn__Gray_Leaf_Spot', \n",
    "            'Corn__Healthy',\n",
    "            'Corn__Northern_Leaf_Blight',\n",
    "            'Grape__Downey_Mildew',\n",
    "            'Grape__Healthy',\n",
    "            'Grape__Powdery_Mildew',\n",
    "            'Olive__Healthy',\n",
    "            'Olive__Peacock_Spot',\n",
    "            'Olive__Rust_Mite',\n",
    "            'Potato__Early_Blight',\n",
    "            'Potato__Healthy',\n",
    "            'Potato__Late_blight',\n",
    "            'Tomato__Early_blight',\n",
    "            'Tomato__Healthy',\n",
    "            'Tomato__Late_Blight',\n",
    "            'Wheat__Healthy',\n",
    "            'Wheat__Septoria',\n",
    "            'Wheat__Yellow_Rust']:\n",
    "            subset_path = os.path.join(class_path, subset)\n",
    "\n",
    "            if os.path.isdir(subset_path):\n",
    "                output_subset_path = os.path.join(output_class_path, subset)\n",
    "                os.makedirs(output_subset_path, exist_ok=True)\n",
    "\n",
    "                # Process all .jpg and .png images in the current subset folder\n",
    "                for ext in ('*.jpg'):\n",
    "                    for file in glob.glob(os.path.join(subset_path, ext)):\n",
    "                        try:\n",
    "                            img = Image.open(file).convert('RGB')\n",
    "                            img_resized = img.resize(target_size)\n",
    "\n",
    "                            filename = os.path.basename(file)\n",
    "                            img_resized.save(os.path.join(output_subset_path, filename))\n",
    "\n",
    "                            \n",
    "                        except Exception as e:\n",
    "                            print(f\"Failed to process {file}: {e}\")\n"
   ]
  },
  {
   "cell_type": "code",
   "execution_count": 2,
   "id": "ba15e892-e50e-42ce-9caa-65415ef3c13f",
   "metadata": {},
   "outputs": [],
   "source": [
    "# Data augumentation for less populated folders\n",
    "\n",
    "def augment_image(img):\n",
    "    # random horizontal flip\n",
    "    if random.random() > 0.5:\n",
    "        img = img.transpose(Image.FLIP_LEFT_RIGHT)\n",
    "\n",
    "    # random rotation\n",
    "    angle = random.randint(-30, 30) \n",
    "    img = img.rotate(angle)\n",
    "\n",
    "    # random zoom\n",
    "    if random.random() > 0.5:\n",
    "        width, height = img.size\n",
    "        new_width = random.randint(int(width*0.8), int(width * 1.2))\n",
    "        new_height = int(height * (new_width / width))\n",
    "        img = img.resize((new_width, new_height))\n",
    "        img = img.crop((0, 0, width, height))\n",
    "\n",
    "    return img\n",
    "\n",
    "input_folder = r\"C:\\Users\\HP\\Code\\Plant_Disease\\training\\Plant_Disease_Dataset\\PLD_wo_aug\\Potato__Healthy(no_aug)\"\n",
    "output_folder = r\"C:\\Users\\HP\\Code\\Plant_Disease\\training\\Plant_Disease_Dataset\\PLD_wo_aug\\Potato__Healthy(aug)\"\n",
    "os.makedirs(output_folder, exist_ok=True)\n",
    "for file in glob.glob(os.path.join(input_folder, '*.jpg')):  \n",
    "    img = Image.open(file).convert('RGB')\n",
    "\n",
    "    for i in range(8):\n",
    "        augmented_img = augment_image(img)\n",
    "        augmented_img.save(os.path.join(output_folder, f\"aug2_{os.path.basename(file)}\"))\n",
    "\n"
   ]
  },
  {
   "cell_type": "code",
   "execution_count": 12,
   "id": "a24b5a7b-3ebc-4177-abad-c0eddcf26b4c",
   "metadata": {},
   "outputs": [],
   "source": [
    "base_dir = Path(\"C:/Users/HP/Code/Plant_Disease/training/Plant_Disease_Dataset/PLD_wo_aug_256\")\n",
    "IMAGE_SIZE = 224\n",
    "BATCH_SIZE = 32\n",
    "CHANNELS = 3"
   ]
  },
  {
   "cell_type": "code",
   "execution_count": 13,
   "id": "8916866f-5240-4db9-8290-ea71d9871a1b",
   "metadata": {},
   "outputs": [
    {
     "name": "stdout",
     "output_type": "stream",
     "text": [
      "Found 9500 files belonging to 3 classes.\n"
     ]
    }
   ],
   "source": [
    "dataset = tf.keras.preprocessing.image_dataset_from_directory(\n",
    "    \"Plant_Disease_Dataset/PLD_wo_aug_256\",\n",
    "    shuffle=True,\n",
    "    image_size = (IMAGE_SIZE, IMAGE_SIZE),\n",
    "    batch_size = BATCH_SIZE\n",
    ")"
   ]
  },
  {
   "cell_type": "code",
   "execution_count": 14,
   "id": "d4cc380b-8a60-44d4-993e-23d815761130",
   "metadata": {},
   "outputs": [
    {
     "name": "stdout",
     "output_type": "stream",
     "text": [
      "Found 7600 files belonging to 19 classes.\n",
      "Found 950 files belonging to 19 classes.\n",
      "Found 950 files belonging to 19 classes.\n"
     ]
    }
   ],
   "source": [
    "# splitting Data into train, val, test\n",
    "\n",
    "train_ds = tf.keras.utils.image_dataset_from_directory(\n",
    "    base_dir / \"train\",\n",
    "    image_size = IMAGE_SIZE,\n",
    "    batch_size = BATCH_SIZE,\n",
    "    shuffle = True\n",
    ")\n",
    "\n",
    "val_ds = tf.keras.utils.image_dataset_from_directory(\n",
    "    base_dir / \"valid\",\n",
    "    image_size = IMAGE_SIZE,\n",
    "    batch_size = BATCH_SIZE,\n",
    "    shuffle = False\n",
    ")\n",
    "\n",
    "test_ds = tf.keras.utils.image_dataset_from_directory(\n",
    "    base_dir / \"test\",\n",
    "    image_size = IMAGE_SIZE,\n",
    "    batch_size = BATCH_SIZE,\n",
    "    shuffle = False\n",
    ")"
   ]
  },
  {
   "cell_type": "code",
   "execution_count": 15,
   "id": "f39ae2e5-66a0-42b8-b580-50fcd5ad050a",
   "metadata": {},
   "outputs": [],
   "source": [
    "# Optimizing\n",
    "\n",
    "train_ds = train_ds.cache().shuffle(1000).prefetch(buffer_size=tf.data.AUTOTUNE)\n",
    "val_ds = val_ds.cache().shuffle(1000).prefetch(buffer_size=tf.data.AUTOTUNE)\n",
    "test_ds = test_ds.cache().shuffle(1000).prefetch(buffer_size=tf.data.AUTOTUNE)"
   ]
  },
  {
   "cell_type": "code",
   "execution_count": 16,
   "id": "95764091-31c3-454e-8927-80e1437c9758",
   "metadata": {},
   "outputs": [],
   "source": [
    "# layer, takes care of resizing the images the model will take as an input\n",
    "\n",
    "resize_and_rescale = tf.keras.Sequential([\n",
    "    layers.Resizing(IMAGE_SIZE, IMAGE_SIZE),\n",
    "    layers.Rescaling(1.0/255)\n",
    "])"
   ]
  },
  {
   "cell_type": "code",
   "execution_count": 17,
   "id": "ab3de6cc-c35f-4be5-bbf7-7bbb4ed7bc15",
   "metadata": {},
   "outputs": [],
   "source": [
    "# data augmentation layer\n",
    "\n",
    "data_augmentation = tf.keras.Sequential([\n",
    "    layers.RandomFlip(\"horizontal_and_vertical\"),\n",
    "    layers.RandomRotation(0.2)\n",
    "])"
   ]
  },
  {
   "cell_type": "code",
   "execution_count": 18,
   "id": "3c9709e0-ad2b-44ad-a83e-4fdfec69d583",
   "metadata": {},
   "outputs": [],
   "source": [
    "# Creating base model from the pre-trained model MNV2\n",
    "IMG_SHAPE = (IMAGE_SIZE, IMAGE_SIZE, 3)\n",
    "\n",
    "base_model = tf.keras.applications.MobileNetV2(\n",
    "    input_shape=IMG_SHAPE,\n",
    "    include_top=False,\n",
    "    weights='imagenet'\n",
    ")"
   ]
  },
  {
   "cell_type": "code",
   "execution_count": 19,
   "id": "05f61294-7e1a-4d12-8743-df1525aea1b3",
   "metadata": {},
   "outputs": [],
   "source": [
    "image_batch, label_batch = next(iter(train_ds))\n",
    "feature_batch = base_model(image_batch)"
   ]
  },
  {
   "cell_type": "code",
   "execution_count": 20,
   "id": "6b7875d9-5a6e-40f1-866b-e9aa7015c360",
   "metadata": {},
   "outputs": [],
   "source": [
    "# Freezing the convolutional base\n",
    "\n",
    "base_model.trainable = False"
   ]
  },
  {
   "cell_type": "code",
   "execution_count": 21,
   "id": "a6d334a6-0924-4a82-8787-c48419a20076",
   "metadata": {},
   "outputs": [
    {
     "name": "stdout",
     "output_type": "stream",
     "text": [
      "(32, 1280)\n"
     ]
    }
   ],
   "source": [
    "# converting the features to a single element vector per image\n",
    "\n",
    "global_average_layer = tf.keras.layers.GlobalAveragePooling2D()\n",
    "feature_batch_average = global_average_layer(feature_batch)\n",
    "print(feature_batch_average.shape)"
   ]
  },
  {
   "cell_type": "code",
   "execution_count": 22,
   "id": "368953a0-afe7-4af6-9f29-91e08691c1c9",
   "metadata": {},
   "outputs": [
    {
     "name": "stdout",
     "output_type": "stream",
     "text": [
      "(32, 1)\n"
     ]
    }
   ],
   "source": [
    "# prediction layer\n",
    "\n",
    "prediction_layer = tf.keras.layers.Dense(1, activation='sigmoid')\n",
    "prediction_batch = prediction_layer(feature_batch_average)\n",
    "print(prediction_batch.shape)"
   ]
  },
  {
   "cell_type": "code",
   "execution_count": 23,
   "id": "9c4b498e-3617-4d9c-af25-bb0f6b3a05d4",
   "metadata": {},
   "outputs": [],
   "source": [
    "inputs = tf.keras.Input(shape=(IMAGE_SIZE, IMAGE_SIZE, 3))\n",
    "x = data_augmentation(inputs)\n",
    "x = resize_and_rescale(x)\n",
    "x = base_model(x, training=False)\n",
    "x = global_average_layer(x)\n",
    "x = tf.keras.layers.Dropout(0.2)(x)\n",
    "outputs = prediction_layer(x)\n",
    "model = tf.keras.Model(inputs, outputs)"
   ]
  },
  {
   "cell_type": "code",
   "execution_count": 151,
   "id": "d0e65ed9-e5e5-40a2-90fc-a7819f8f208f",
   "metadata": {},
   "outputs": [
    {
     "data": {
      "text/html": [
       "<pre style=\"white-space:pre;overflow-x:auto;line-height:normal;font-family:Menlo,'DejaVu Sans Mono',consolas,'Courier New',monospace\"><span style=\"font-weight: bold\">Model: \"functional_2\"</span>\n",
       "</pre>\n"
      ],
      "text/plain": [
       "\u001b[1mModel: \"functional_2\"\u001b[0m\n"
      ]
     },
     "metadata": {},
     "output_type": "display_data"
    },
    {
     "data": {
      "text/html": [
       "<pre style=\"white-space:pre;overflow-x:auto;line-height:normal;font-family:Menlo,'DejaVu Sans Mono',consolas,'Courier New',monospace\">┏━━━━━━━━━━━━━━━━━━━━━━━━━━━━━━━━━━━━━━┳━━━━━━━━━━━━━━━━━━━━━━━━━━━━━┳━━━━━━━━━━━━━━━━━┓\n",
       "┃<span style=\"font-weight: bold\"> Layer (type)                         </span>┃<span style=\"font-weight: bold\"> Output Shape                </span>┃<span style=\"font-weight: bold\">         Param # </span>┃\n",
       "┡━━━━━━━━━━━━━━━━━━━━━━━━━━━━━━━━━━━━━━╇━━━━━━━━━━━━━━━━━━━━━━━━━━━━━╇━━━━━━━━━━━━━━━━━┩\n",
       "│ input_layer_1 (<span style=\"color: #0087ff; text-decoration-color: #0087ff\">InputLayer</span>)           │ (<span style=\"color: #00d7ff; text-decoration-color: #00d7ff\">None</span>, <span style=\"color: #00af00; text-decoration-color: #00af00\">256</span>, <span style=\"color: #00af00; text-decoration-color: #00af00\">256</span>, <span style=\"color: #00af00; text-decoration-color: #00af00\">3</span>)         │               <span style=\"color: #00af00; text-decoration-color: #00af00\">0</span> │\n",
       "├──────────────────────────────────────┼─────────────────────────────┼─────────────────┤\n",
       "│ sequential_4 (<span style=\"color: #0087ff; text-decoration-color: #0087ff\">Sequential</span>)            │ (<span style=\"color: #00d7ff; text-decoration-color: #00d7ff\">None</span>, <span style=\"color: #00af00; text-decoration-color: #00af00\">256</span>, <span style=\"color: #00af00; text-decoration-color: #00af00\">256</span>, <span style=\"color: #00af00; text-decoration-color: #00af00\">3</span>)         │               <span style=\"color: #00af00; text-decoration-color: #00af00\">0</span> │\n",
       "├──────────────────────────────────────┼─────────────────────────────┼─────────────────┤\n",
       "│ sequential_2 (<span style=\"color: #0087ff; text-decoration-color: #0087ff\">Sequential</span>)            │ (<span style=\"color: #00d7ff; text-decoration-color: #00d7ff\">None</span>, <span style=\"color: #00af00; text-decoration-color: #00af00\">256</span>, <span style=\"color: #00af00; text-decoration-color: #00af00\">256</span>, <span style=\"color: #00af00; text-decoration-color: #00af00\">3</span>)         │               <span style=\"color: #00af00; text-decoration-color: #00af00\">0</span> │\n",
       "├──────────────────────────────────────┼─────────────────────────────┼─────────────────┤\n",
       "│ mobilenetv2_1.00_224 (<span style=\"color: #0087ff; text-decoration-color: #0087ff\">Functional</span>)    │ (<span style=\"color: #00d7ff; text-decoration-color: #00d7ff\">None</span>, <span style=\"color: #00af00; text-decoration-color: #00af00\">8</span>, <span style=\"color: #00af00; text-decoration-color: #00af00\">8</span>, <span style=\"color: #00af00; text-decoration-color: #00af00\">1280</span>)          │       <span style=\"color: #00af00; text-decoration-color: #00af00\">2,257,984</span> │\n",
       "├──────────────────────────────────────┼─────────────────────────────┼─────────────────┤\n",
       "│ global_average_pooling2d_1           │ (<span style=\"color: #00d7ff; text-decoration-color: #00d7ff\">None</span>, <span style=\"color: #00af00; text-decoration-color: #00af00\">1280</span>)                │               <span style=\"color: #00af00; text-decoration-color: #00af00\">0</span> │\n",
       "│ (<span style=\"color: #0087ff; text-decoration-color: #0087ff\">GlobalAveragePooling2D</span>)             │                             │                 │\n",
       "├──────────────────────────────────────┼─────────────────────────────┼─────────────────┤\n",
       "│ dropout (<span style=\"color: #0087ff; text-decoration-color: #0087ff\">Dropout</span>)                    │ (<span style=\"color: #00d7ff; text-decoration-color: #00d7ff\">None</span>, <span style=\"color: #00af00; text-decoration-color: #00af00\">1280</span>)                │               <span style=\"color: #00af00; text-decoration-color: #00af00\">0</span> │\n",
       "├──────────────────────────────────────┼─────────────────────────────┼─────────────────┤\n",
       "│ dense (<span style=\"color: #0087ff; text-decoration-color: #0087ff\">Dense</span>)                        │ (<span style=\"color: #00d7ff; text-decoration-color: #00d7ff\">None</span>, <span style=\"color: #00af00; text-decoration-color: #00af00\">1</span>)                   │           <span style=\"color: #00af00; text-decoration-color: #00af00\">1,281</span> │\n",
       "└──────────────────────────────────────┴─────────────────────────────┴─────────────────┘\n",
       "</pre>\n"
      ],
      "text/plain": [
       "┏━━━━━━━━━━━━━━━━━━━━━━━━━━━━━━━━━━━━━━┳━━━━━━━━━━━━━━━━━━━━━━━━━━━━━┳━━━━━━━━━━━━━━━━━┓\n",
       "┃\u001b[1m \u001b[0m\u001b[1mLayer (type)                        \u001b[0m\u001b[1m \u001b[0m┃\u001b[1m \u001b[0m\u001b[1mOutput Shape               \u001b[0m\u001b[1m \u001b[0m┃\u001b[1m \u001b[0m\u001b[1m        Param #\u001b[0m\u001b[1m \u001b[0m┃\n",
       "┡━━━━━━━━━━━━━━━━━━━━━━━━━━━━━━━━━━━━━━╇━━━━━━━━━━━━━━━━━━━━━━━━━━━━━╇━━━━━━━━━━━━━━━━━┩\n",
       "│ input_layer_1 (\u001b[38;5;33mInputLayer\u001b[0m)           │ (\u001b[38;5;45mNone\u001b[0m, \u001b[38;5;34m256\u001b[0m, \u001b[38;5;34m256\u001b[0m, \u001b[38;5;34m3\u001b[0m)         │               \u001b[38;5;34m0\u001b[0m │\n",
       "├──────────────────────────────────────┼─────────────────────────────┼─────────────────┤\n",
       "│ sequential_4 (\u001b[38;5;33mSequential\u001b[0m)            │ (\u001b[38;5;45mNone\u001b[0m, \u001b[38;5;34m256\u001b[0m, \u001b[38;5;34m256\u001b[0m, \u001b[38;5;34m3\u001b[0m)         │               \u001b[38;5;34m0\u001b[0m │\n",
       "├──────────────────────────────────────┼─────────────────────────────┼─────────────────┤\n",
       "│ sequential_2 (\u001b[38;5;33mSequential\u001b[0m)            │ (\u001b[38;5;45mNone\u001b[0m, \u001b[38;5;34m256\u001b[0m, \u001b[38;5;34m256\u001b[0m, \u001b[38;5;34m3\u001b[0m)         │               \u001b[38;5;34m0\u001b[0m │\n",
       "├──────────────────────────────────────┼─────────────────────────────┼─────────────────┤\n",
       "│ mobilenetv2_1.00_224 (\u001b[38;5;33mFunctional\u001b[0m)    │ (\u001b[38;5;45mNone\u001b[0m, \u001b[38;5;34m8\u001b[0m, \u001b[38;5;34m8\u001b[0m, \u001b[38;5;34m1280\u001b[0m)          │       \u001b[38;5;34m2,257,984\u001b[0m │\n",
       "├──────────────────────────────────────┼─────────────────────────────┼─────────────────┤\n",
       "│ global_average_pooling2d_1           │ (\u001b[38;5;45mNone\u001b[0m, \u001b[38;5;34m1280\u001b[0m)                │               \u001b[38;5;34m0\u001b[0m │\n",
       "│ (\u001b[38;5;33mGlobalAveragePooling2D\u001b[0m)             │                             │                 │\n",
       "├──────────────────────────────────────┼─────────────────────────────┼─────────────────┤\n",
       "│ dropout (\u001b[38;5;33mDropout\u001b[0m)                    │ (\u001b[38;5;45mNone\u001b[0m, \u001b[38;5;34m1280\u001b[0m)                │               \u001b[38;5;34m0\u001b[0m │\n",
       "├──────────────────────────────────────┼─────────────────────────────┼─────────────────┤\n",
       "│ dense (\u001b[38;5;33mDense\u001b[0m)                        │ (\u001b[38;5;45mNone\u001b[0m, \u001b[38;5;34m1\u001b[0m)                   │           \u001b[38;5;34m1,281\u001b[0m │\n",
       "└──────────────────────────────────────┴─────────────────────────────┴─────────────────┘\n"
      ]
     },
     "metadata": {},
     "output_type": "display_data"
    },
    {
     "data": {
      "text/html": [
       "<pre style=\"white-space:pre;overflow-x:auto;line-height:normal;font-family:Menlo,'DejaVu Sans Mono',consolas,'Courier New',monospace\"><span style=\"font-weight: bold\"> Total params: </span><span style=\"color: #00af00; text-decoration-color: #00af00\">2,259,265</span> (8.62 MB)\n",
       "</pre>\n"
      ],
      "text/plain": [
       "\u001b[1m Total params: \u001b[0m\u001b[38;5;34m2,259,265\u001b[0m (8.62 MB)\n"
      ]
     },
     "metadata": {},
     "output_type": "display_data"
    },
    {
     "data": {
      "text/html": [
       "<pre style=\"white-space:pre;overflow-x:auto;line-height:normal;font-family:Menlo,'DejaVu Sans Mono',consolas,'Courier New',monospace\"><span style=\"font-weight: bold\"> Trainable params: </span><span style=\"color: #00af00; text-decoration-color: #00af00\">1,281</span> (5.00 KB)\n",
       "</pre>\n"
      ],
      "text/plain": [
       "\u001b[1m Trainable params: \u001b[0m\u001b[38;5;34m1,281\u001b[0m (5.00 KB)\n"
      ]
     },
     "metadata": {},
     "output_type": "display_data"
    },
    {
     "data": {
      "text/html": [
       "<pre style=\"white-space:pre;overflow-x:auto;line-height:normal;font-family:Menlo,'DejaVu Sans Mono',consolas,'Courier New',monospace\"><span style=\"font-weight: bold\"> Non-trainable params: </span><span style=\"color: #00af00; text-decoration-color: #00af00\">2,257,984</span> (8.61 MB)\n",
       "</pre>\n"
      ],
      "text/plain": [
       "\u001b[1m Non-trainable params: \u001b[0m\u001b[38;5;34m2,257,984\u001b[0m (8.61 MB)\n"
      ]
     },
     "metadata": {},
     "output_type": "display_data"
    }
   ],
   "source": [
    "model.summary()"
   ]
  },
  {
   "cell_type": "code",
   "execution_count": 24,
   "id": "59774565-1648-4400-b230-f63892adf622",
   "metadata": {},
   "outputs": [],
   "source": [
    "base_learning_rate = 0.0001\n",
    "model.compile(\n",
    "    optimizer = tf.keras.optimizers.Adam(learning_rate=base_learning_rate),\n",
    "    loss = tf.keras.losses.BinaryCrossentropy(),\n",
    "    metrics=[tf.keras.metrics.BinaryAccuracy(threshold=0.5, name='accuracy')])"
   ]
  },
  {
   "cell_type": "code",
   "execution_count": 25,
   "id": "92f0a8d9-f710-43c7-bd01-b014f09aa156",
   "metadata": {},
   "outputs": [
    {
     "name": "stdout",
     "output_type": "stream",
     "text": [
      "\u001b[1m30/30\u001b[0m \u001b[32m━━━━━━━━━━━━━━━━━━━━\u001b[0m\u001b[37m\u001b[0m \u001b[1m18s\u001b[0m 458ms/step - accuracy: 0.0485 - loss: -4.7930\n"
     ]
    }
   ],
   "source": [
    "initial_epochs = 10\n",
    "\n",
    "loss0, accuracy0 = model.evaluate(val_ds)"
   ]
  },
  {
   "cell_type": "code",
   "execution_count": 26,
   "id": "c6dc84a1-2b22-4ecc-9080-71fb5402d3f0",
   "metadata": {},
   "outputs": [
    {
     "name": "stdout",
     "output_type": "stream",
     "text": [
      "initial loss: -5.87\n",
      "initial accuracy: 0.04\n"
     ]
    }
   ],
   "source": [
    "print(\"initial loss: {:.2f}\".format(loss0))\n",
    "print(\"initial accuracy: {:.2f}\".format(accuracy0))"
   ]
  },
  {
   "cell_type": "code",
   "execution_count": 27,
   "id": "b6af0694-cf67-420e-80e1-05162b615633",
   "metadata": {},
   "outputs": [
    {
     "name": "stdout",
     "output_type": "stream",
     "text": [
      "Epoch 1/10\n",
      "\u001b[1m142/238\u001b[0m \u001b[32m━━━━━━━━━━━\u001b[0m\u001b[37m━━━━━━━━━\u001b[0m \u001b[1m50s\u001b[0m 523ms/step - accuracy: 0.0420 - loss: -19.6340"
     ]
    },
    {
     "ename": "KeyboardInterrupt",
     "evalue": "",
     "output_type": "error",
     "traceback": [
      "\u001b[1;31m---------------------------------------------------------------------------\u001b[0m",
      "\u001b[1;31mKeyboardInterrupt\u001b[0m                         Traceback (most recent call last)",
      "\u001b[1;32m~\\AppData\\Local\\Temp\\ipykernel_16348\\924189873.py\u001b[0m in \u001b[0;36m?\u001b[1;34m()\u001b[0m\n\u001b[1;32m----> 1\u001b[1;33m history = model.fit(train_ds,\n\u001b[0m\u001b[0;32m      2\u001b[0m                     \u001b[0mepochs\u001b[0m\u001b[1;33m=\u001b[0m\u001b[0minitial_epochs\u001b[0m\u001b[1;33m,\u001b[0m\u001b[1;33m\u001b[0m\u001b[1;33m\u001b[0m\u001b[0m\n\u001b[0;32m      3\u001b[0m                     validation_data=val_ds)\n",
      "\u001b[1;32m~\\anaconda3\\envs\\tf_env\\lib\\site-packages\\keras\\src\\utils\\traceback_utils.py\u001b[0m in \u001b[0;36m?\u001b[1;34m(*args, **kwargs)\u001b[0m\n\u001b[0;32m    120\u001b[0m             \u001b[1;31m# To get the full stack trace, call:\u001b[0m\u001b[1;33m\u001b[0m\u001b[1;33m\u001b[0m\u001b[0m\n\u001b[0;32m    121\u001b[0m             \u001b[1;31m# `keras.config.disable_traceback_filtering()`\u001b[0m\u001b[1;33m\u001b[0m\u001b[1;33m\u001b[0m\u001b[0m\n\u001b[0;32m    122\u001b[0m             \u001b[1;32mraise\u001b[0m \u001b[0me\u001b[0m\u001b[1;33m.\u001b[0m\u001b[0mwith_traceback\u001b[0m\u001b[1;33m(\u001b[0m\u001b[0mfiltered_tb\u001b[0m\u001b[1;33m)\u001b[0m \u001b[1;32mfrom\u001b[0m \u001b[1;32mNone\u001b[0m\u001b[1;33m\u001b[0m\u001b[1;33m\u001b[0m\u001b[0m\n\u001b[0;32m    123\u001b[0m         \u001b[1;32mfinally\u001b[0m\u001b[1;33m:\u001b[0m\u001b[1;33m\u001b[0m\u001b[1;33m\u001b[0m\u001b[0m\n\u001b[1;32m--> 124\u001b[1;33m             \u001b[1;32mdel\u001b[0m \u001b[0mfiltered_tb\u001b[0m\u001b[1;33m\u001b[0m\u001b[1;33m\u001b[0m\u001b[0m\n\u001b[0m",
      "\u001b[1;32m~\\anaconda3\\envs\\tf_env\\lib\\site-packages\\keras\\src\\backend\\tensorflow\\trainer.py\u001b[0m in \u001b[0;36m?\u001b[1;34m(self, x, y, batch_size, epochs, verbose, callbacks, validation_split, validation_data, shuffle, class_weight, sample_weight, initial_epoch, steps_per_epoch, validation_steps, validation_batch_size, validation_freq)\u001b[0m\n\u001b[0;32m    370\u001b[0m                     \u001b[0mcallbacks\u001b[0m\u001b[1;33m.\u001b[0m\u001b[0mon_train_batch_begin\u001b[0m\u001b[1;33m(\u001b[0m\u001b[0mstep\u001b[0m\u001b[1;33m)\u001b[0m\u001b[1;33m\u001b[0m\u001b[1;33m\u001b[0m\u001b[0m\n\u001b[0;32m    371\u001b[0m                     \u001b[0mlogs\u001b[0m \u001b[1;33m=\u001b[0m \u001b[0mself\u001b[0m\u001b[1;33m.\u001b[0m\u001b[0mtrain_function\u001b[0m\u001b[1;33m(\u001b[0m\u001b[0miterator\u001b[0m\u001b[1;33m)\u001b[0m\u001b[1;33m\u001b[0m\u001b[1;33m\u001b[0m\u001b[0m\n\u001b[0;32m    372\u001b[0m                     \u001b[0mcallbacks\u001b[0m\u001b[1;33m.\u001b[0m\u001b[0mon_train_batch_end\u001b[0m\u001b[1;33m(\u001b[0m\u001b[0mstep\u001b[0m\u001b[1;33m,\u001b[0m \u001b[0mlogs\u001b[0m\u001b[1;33m)\u001b[0m\u001b[1;33m\u001b[0m\u001b[1;33m\u001b[0m\u001b[0m\n\u001b[0;32m    373\u001b[0m                     \u001b[1;32mif\u001b[0m \u001b[0mself\u001b[0m\u001b[1;33m.\u001b[0m\u001b[0mstop_training\u001b[0m\u001b[1;33m:\u001b[0m\u001b[1;33m\u001b[0m\u001b[1;33m\u001b[0m\u001b[0m\n\u001b[1;32m--> 374\u001b[1;33m                         \u001b[1;32mbreak\u001b[0m\u001b[1;33m\u001b[0m\u001b[1;33m\u001b[0m\u001b[0m\n\u001b[0m\u001b[0;32m    375\u001b[0m \u001b[1;33m\u001b[0m\u001b[0m\n\u001b[0;32m    376\u001b[0m             \u001b[1;31m# Override with model metrics instead of last step logs if needed.\u001b[0m\u001b[1;33m\u001b[0m\u001b[1;33m\u001b[0m\u001b[0m\n\u001b[0;32m    377\u001b[0m             \u001b[0mepoch_logs\u001b[0m \u001b[1;33m=\u001b[0m \u001b[0mdict\u001b[0m\u001b[1;33m(\u001b[0m\u001b[0mself\u001b[0m\u001b[1;33m.\u001b[0m\u001b[0m_get_metrics_result_or_logs\u001b[0m\u001b[1;33m(\u001b[0m\u001b[0mlogs\u001b[0m\u001b[1;33m)\u001b[0m\u001b[1;33m)\u001b[0m\u001b[1;33m\u001b[0m\u001b[1;33m\u001b[0m\u001b[0m\n",
      "\u001b[1;32m~\\anaconda3\\envs\\tf_env\\lib\\site-packages\\keras\\src\\callbacks\\callback_list.py\u001b[0m in \u001b[0;36m?\u001b[1;34m(self, batch, logs)\u001b[0m\n\u001b[0;32m    168\u001b[0m     \u001b[1;32mdef\u001b[0m \u001b[0mon_train_batch_end\u001b[0m\u001b[1;33m(\u001b[0m\u001b[0mself\u001b[0m\u001b[1;33m,\u001b[0m \u001b[0mbatch\u001b[0m\u001b[1;33m,\u001b[0m \u001b[0mlogs\u001b[0m\u001b[1;33m=\u001b[0m\u001b[1;32mNone\u001b[0m\u001b[1;33m)\u001b[0m\u001b[1;33m:\u001b[0m\u001b[1;33m\u001b[0m\u001b[1;33m\u001b[0m\u001b[0m\n\u001b[0;32m    169\u001b[0m         \u001b[1;32mif\u001b[0m \u001b[0mself\u001b[0m\u001b[1;33m.\u001b[0m\u001b[0m_async_train\u001b[0m\u001b[1;33m:\u001b[0m\u001b[1;33m\u001b[0m\u001b[1;33m\u001b[0m\u001b[0m\n\u001b[0;32m    170\u001b[0m             \u001b[0mself\u001b[0m\u001b[1;33m.\u001b[0m\u001b[0m_async_dispatch\u001b[0m\u001b[1;33m(\u001b[0m\u001b[0mself\u001b[0m\u001b[1;33m.\u001b[0m\u001b[0m_on_train_batch_end\u001b[0m\u001b[1;33m,\u001b[0m \u001b[0mbatch\u001b[0m\u001b[1;33m,\u001b[0m \u001b[0mlogs\u001b[0m\u001b[1;33m)\u001b[0m\u001b[1;33m\u001b[0m\u001b[1;33m\u001b[0m\u001b[0m\n\u001b[0;32m    171\u001b[0m         \u001b[1;32melse\u001b[0m\u001b[1;33m:\u001b[0m\u001b[1;33m\u001b[0m\u001b[1;33m\u001b[0m\u001b[0m\n\u001b[1;32m--> 172\u001b[1;33m             \u001b[0mself\u001b[0m\u001b[1;33m.\u001b[0m\u001b[0m_on_train_batch_end\u001b[0m\u001b[1;33m(\u001b[0m\u001b[0mbatch\u001b[0m\u001b[1;33m,\u001b[0m \u001b[0mlogs\u001b[0m\u001b[1;33m)\u001b[0m\u001b[1;33m\u001b[0m\u001b[1;33m\u001b[0m\u001b[0m\n\u001b[0m",
      "\u001b[1;32m~\\anaconda3\\envs\\tf_env\\lib\\site-packages\\keras\\src\\callbacks\\callback_list.py\u001b[0m in \u001b[0;36m?\u001b[1;34m(self, batch, logs)\u001b[0m\n\u001b[0;32m    191\u001b[0m     \u001b[1;32mdef\u001b[0m \u001b[0m_on_train_batch_end\u001b[0m\u001b[1;33m(\u001b[0m\u001b[0mself\u001b[0m\u001b[1;33m,\u001b[0m \u001b[0mbatch\u001b[0m\u001b[1;33m,\u001b[0m \u001b[0mlogs\u001b[0m\u001b[1;33m=\u001b[0m\u001b[1;32mNone\u001b[0m\u001b[1;33m)\u001b[0m\u001b[1;33m:\u001b[0m\u001b[1;33m\u001b[0m\u001b[1;33m\u001b[0m\u001b[0m\n\u001b[0;32m    192\u001b[0m         \u001b[0mlogs\u001b[0m \u001b[1;33m=\u001b[0m \u001b[0mpython_utils\u001b[0m\u001b[1;33m.\u001b[0m\u001b[0mpythonify_logs\u001b[0m\u001b[1;33m(\u001b[0m\u001b[0mlogs\u001b[0m\u001b[1;33m)\u001b[0m\u001b[1;33m\u001b[0m\u001b[1;33m\u001b[0m\u001b[0m\n\u001b[0;32m    193\u001b[0m         \u001b[1;32mfor\u001b[0m \u001b[0mcallback\u001b[0m \u001b[1;32min\u001b[0m \u001b[0mself\u001b[0m\u001b[1;33m.\u001b[0m\u001b[0mcallbacks\u001b[0m\u001b[1;33m:\u001b[0m\u001b[1;33m\u001b[0m\u001b[1;33m\u001b[0m\u001b[0m\n\u001b[1;32m--> 194\u001b[1;33m             \u001b[0mcallback\u001b[0m\u001b[1;33m.\u001b[0m\u001b[0mon_train_batch_end\u001b[0m\u001b[1;33m(\u001b[0m\u001b[0mbatch\u001b[0m\u001b[1;33m,\u001b[0m \u001b[0mlogs\u001b[0m\u001b[1;33m=\u001b[0m\u001b[0mlogs\u001b[0m\u001b[1;33m)\u001b[0m\u001b[1;33m\u001b[0m\u001b[1;33m\u001b[0m\u001b[0m\n\u001b[0m",
      "\u001b[1;32m~\\anaconda3\\envs\\tf_env\\lib\\site-packages\\keras\\src\\callbacks\\progbar_logger.py\u001b[0m in \u001b[0;36m?\u001b[1;34m(self, batch, logs)\u001b[0m\n\u001b[0;32m     57\u001b[0m     \u001b[1;32mdef\u001b[0m \u001b[0mon_train_batch_end\u001b[0m\u001b[1;33m(\u001b[0m\u001b[0mself\u001b[0m\u001b[1;33m,\u001b[0m \u001b[0mbatch\u001b[0m\u001b[1;33m,\u001b[0m \u001b[0mlogs\u001b[0m\u001b[1;33m=\u001b[0m\u001b[1;32mNone\u001b[0m\u001b[1;33m)\u001b[0m\u001b[1;33m:\u001b[0m\u001b[1;33m\u001b[0m\u001b[1;33m\u001b[0m\u001b[0m\n\u001b[1;32m---> 58\u001b[1;33m         \u001b[0mself\u001b[0m\u001b[1;33m.\u001b[0m\u001b[0m_update_progbar\u001b[0m\u001b[1;33m(\u001b[0m\u001b[0mbatch\u001b[0m\u001b[1;33m,\u001b[0m \u001b[0mlogs\u001b[0m\u001b[1;33m)\u001b[0m\u001b[1;33m\u001b[0m\u001b[1;33m\u001b[0m\u001b[0m\n\u001b[0m",
      "\u001b[1;32m~\\anaconda3\\envs\\tf_env\\lib\\site-packages\\keras\\src\\callbacks\\progbar_logger.py\u001b[0m in \u001b[0;36m?\u001b[1;34m(self, batch, logs)\u001b[0m\n\u001b[0;32m     91\u001b[0m         \u001b[0mself\u001b[0m\u001b[1;33m.\u001b[0m\u001b[0m_maybe_init_progbar\u001b[0m\u001b[1;33m(\u001b[0m\u001b[1;33m)\u001b[0m\u001b[1;33m\u001b[0m\u001b[1;33m\u001b[0m\u001b[0m\n\u001b[0;32m     92\u001b[0m         \u001b[0mself\u001b[0m\u001b[1;33m.\u001b[0m\u001b[0mseen\u001b[0m \u001b[1;33m=\u001b[0m \u001b[0mbatch\u001b[0m \u001b[1;33m+\u001b[0m \u001b[1;36m1\u001b[0m  \u001b[1;31m# One-indexed.\u001b[0m\u001b[1;33m\u001b[0m\u001b[1;33m\u001b[0m\u001b[0m\n\u001b[0;32m     93\u001b[0m \u001b[1;33m\u001b[0m\u001b[0m\n\u001b[0;32m     94\u001b[0m         \u001b[1;32mif\u001b[0m \u001b[0mself\u001b[0m\u001b[1;33m.\u001b[0m\u001b[0mverbose\u001b[0m \u001b[1;33m==\u001b[0m \u001b[1;36m1\u001b[0m\u001b[1;33m:\u001b[0m\u001b[1;33m\u001b[0m\u001b[1;33m\u001b[0m\u001b[0m\n\u001b[1;32m---> 95\u001b[1;33m             \u001b[0mself\u001b[0m\u001b[1;33m.\u001b[0m\u001b[0mprogbar\u001b[0m\u001b[1;33m.\u001b[0m\u001b[0mupdate\u001b[0m\u001b[1;33m(\u001b[0m\u001b[0mself\u001b[0m\u001b[1;33m.\u001b[0m\u001b[0mseen\u001b[0m\u001b[1;33m,\u001b[0m \u001b[0mlist\u001b[0m\u001b[1;33m(\u001b[0m\u001b[0mlogs\u001b[0m\u001b[1;33m.\u001b[0m\u001b[0mitems\u001b[0m\u001b[1;33m(\u001b[0m\u001b[1;33m)\u001b[0m\u001b[1;33m)\u001b[0m\u001b[1;33m,\u001b[0m \u001b[0mfinalize\u001b[0m\u001b[1;33m=\u001b[0m\u001b[1;32mFalse\u001b[0m\u001b[1;33m)\u001b[0m\u001b[1;33m\u001b[0m\u001b[1;33m\u001b[0m\u001b[0m\n\u001b[0m",
      "\u001b[1;32m~\\anaconda3\\envs\\tf_env\\lib\\site-packages\\keras\\src\\utils\\progbar.py\u001b[0m in \u001b[0;36m?\u001b[1;34m(self, current, values, finalize)\u001b[0m\n\u001b[0;32m    159\u001b[0m             \u001b[1;32mfor\u001b[0m \u001b[0mk\u001b[0m \u001b[1;32min\u001b[0m \u001b[0mself\u001b[0m\u001b[1;33m.\u001b[0m\u001b[0m_values_order\u001b[0m\u001b[1;33m:\u001b[0m\u001b[1;33m\u001b[0m\u001b[1;33m\u001b[0m\u001b[0m\n\u001b[0;32m    160\u001b[0m                 \u001b[0minfo\u001b[0m \u001b[1;33m+=\u001b[0m \u001b[1;34mf\" - {k}:\"\u001b[0m\u001b[1;33m\u001b[0m\u001b[1;33m\u001b[0m\u001b[0m\n\u001b[0;32m    161\u001b[0m                 \u001b[1;32mif\u001b[0m \u001b[0misinstance\u001b[0m\u001b[1;33m(\u001b[0m\u001b[0mself\u001b[0m\u001b[1;33m.\u001b[0m\u001b[0m_values\u001b[0m\u001b[1;33m[\u001b[0m\u001b[0mk\u001b[0m\u001b[1;33m]\u001b[0m\u001b[1;33m,\u001b[0m \u001b[0mlist\u001b[0m\u001b[1;33m)\u001b[0m\u001b[1;33m:\u001b[0m\u001b[1;33m\u001b[0m\u001b[1;33m\u001b[0m\u001b[0m\n\u001b[0;32m    162\u001b[0m                     avg = backend.convert_to_numpy(\n\u001b[1;32m--> 163\u001b[1;33m                         backend.numpy.mean(\n\u001b[0m\u001b[0;32m    164\u001b[0m                             \u001b[0mself\u001b[0m\u001b[1;33m.\u001b[0m\u001b[0m_values\u001b[0m\u001b[1;33m[\u001b[0m\u001b[0mk\u001b[0m\u001b[1;33m]\u001b[0m\u001b[1;33m[\u001b[0m\u001b[1;36m0\u001b[0m\u001b[1;33m]\u001b[0m \u001b[1;33m/\u001b[0m \u001b[0mmax\u001b[0m\u001b[1;33m(\u001b[0m\u001b[1;36m1\u001b[0m\u001b[1;33m,\u001b[0m \u001b[0mself\u001b[0m\u001b[1;33m.\u001b[0m\u001b[0m_values\u001b[0m\u001b[1;33m[\u001b[0m\u001b[0mk\u001b[0m\u001b[1;33m]\u001b[0m\u001b[1;33m[\u001b[0m\u001b[1;36m1\u001b[0m\u001b[1;33m]\u001b[0m\u001b[1;33m)\u001b[0m\u001b[1;33m\u001b[0m\u001b[1;33m\u001b[0m\u001b[0m\n\u001b[0;32m    165\u001b[0m                         )\n\u001b[0;32m    166\u001b[0m                     )\n",
      "\u001b[1;32m~\\anaconda3\\envs\\tf_env\\lib\\site-packages\\keras\\src\\backend\\tensorflow\\numpy.py\u001b[0m in \u001b[0;36m?\u001b[1;34m(x, axis, keepdims)\u001b[0m\n\u001b[0;32m    662\u001b[0m     \u001b[1;32mif\u001b[0m \u001b[1;34m\"int\"\u001b[0m \u001b[1;32min\u001b[0m \u001b[0mori_dtype\u001b[0m \u001b[1;32mor\u001b[0m \u001b[0mori_dtype\u001b[0m \u001b[1;33m==\u001b[0m \u001b[1;34m\"bool\"\u001b[0m\u001b[1;33m:\u001b[0m\u001b[1;33m\u001b[0m\u001b[1;33m\u001b[0m\u001b[0m\n\u001b[0;32m    663\u001b[0m         \u001b[0mresult_dtype\u001b[0m \u001b[1;33m=\u001b[0m \u001b[0mcompute_dtype\u001b[0m\u001b[1;33m\u001b[0m\u001b[1;33m\u001b[0m\u001b[0m\n\u001b[0;32m    664\u001b[0m     \u001b[1;32melse\u001b[0m\u001b[1;33m:\u001b[0m\u001b[1;33m\u001b[0m\u001b[1;33m\u001b[0m\u001b[0m\n\u001b[0;32m    665\u001b[0m         \u001b[0mresult_dtype\u001b[0m \u001b[1;33m=\u001b[0m \u001b[0mori_dtype\u001b[0m\u001b[1;33m\u001b[0m\u001b[1;33m\u001b[0m\u001b[0m\n\u001b[1;32m--> 666\u001b[1;33m     output = tf.reduce_mean(\n\u001b[0m\u001b[0;32m    667\u001b[0m         \u001b[0mtf\u001b[0m\u001b[1;33m.\u001b[0m\u001b[0mcast\u001b[0m\u001b[1;33m(\u001b[0m\u001b[0mx\u001b[0m\u001b[1;33m,\u001b[0m \u001b[0mcompute_dtype\u001b[0m\u001b[1;33m)\u001b[0m\u001b[1;33m,\u001b[0m \u001b[0maxis\u001b[0m\u001b[1;33m=\u001b[0m\u001b[0maxis\u001b[0m\u001b[1;33m,\u001b[0m \u001b[0mkeepdims\u001b[0m\u001b[1;33m=\u001b[0m\u001b[0mkeepdims\u001b[0m\u001b[1;33m\u001b[0m\u001b[1;33m\u001b[0m\u001b[0m\n\u001b[0;32m    668\u001b[0m     )\n\u001b[0;32m    669\u001b[0m     \u001b[1;32mreturn\u001b[0m \u001b[0mtf\u001b[0m\u001b[1;33m.\u001b[0m\u001b[0mcast\u001b[0m\u001b[1;33m(\u001b[0m\u001b[0moutput\u001b[0m\u001b[1;33m,\u001b[0m \u001b[0mresult_dtype\u001b[0m\u001b[1;33m)\u001b[0m\u001b[1;33m\u001b[0m\u001b[1;33m\u001b[0m\u001b[0m\n",
      "\u001b[1;32m~\\anaconda3\\envs\\tf_env\\lib\\site-packages\\tensorflow\\python\\ops\\weak_tensor_ops.py\u001b[0m in \u001b[0;36m?\u001b[1;34m(*args, **kwargs)\u001b[0m\n\u001b[0;32m     86\u001b[0m   \u001b[1;32mdef\u001b[0m \u001b[0mwrapper\u001b[0m\u001b[1;33m(\u001b[0m\u001b[1;33m*\u001b[0m\u001b[0margs\u001b[0m\u001b[1;33m,\u001b[0m \u001b[1;33m**\u001b[0m\u001b[0mkwargs\u001b[0m\u001b[1;33m)\u001b[0m\u001b[1;33m:\u001b[0m\u001b[1;33m\u001b[0m\u001b[1;33m\u001b[0m\u001b[0m\n\u001b[0;32m     87\u001b[0m     \u001b[1;32mif\u001b[0m \u001b[1;32mnot\u001b[0m \u001b[0mops\u001b[0m\u001b[1;33m.\u001b[0m\u001b[0mis_auto_dtype_conversion_enabled\u001b[0m\u001b[1;33m(\u001b[0m\u001b[1;33m)\u001b[0m\u001b[1;33m:\u001b[0m\u001b[1;33m\u001b[0m\u001b[1;33m\u001b[0m\u001b[0m\n\u001b[1;32m---> 88\u001b[1;33m       \u001b[1;32mreturn\u001b[0m \u001b[0mop\u001b[0m\u001b[1;33m(\u001b[0m\u001b[1;33m*\u001b[0m\u001b[0margs\u001b[0m\u001b[1;33m,\u001b[0m \u001b[1;33m**\u001b[0m\u001b[0mkwargs\u001b[0m\u001b[1;33m)\u001b[0m\u001b[1;33m\u001b[0m\u001b[1;33m\u001b[0m\u001b[0m\n\u001b[0m\u001b[0;32m     89\u001b[0m     \u001b[0mbound_arguments\u001b[0m \u001b[1;33m=\u001b[0m \u001b[0msignature\u001b[0m\u001b[1;33m.\u001b[0m\u001b[0mbind\u001b[0m\u001b[1;33m(\u001b[0m\u001b[1;33m*\u001b[0m\u001b[0margs\u001b[0m\u001b[1;33m,\u001b[0m \u001b[1;33m**\u001b[0m\u001b[0mkwargs\u001b[0m\u001b[1;33m)\u001b[0m\u001b[1;33m\u001b[0m\u001b[1;33m\u001b[0m\u001b[0m\n\u001b[0;32m     90\u001b[0m     \u001b[0mbound_arguments\u001b[0m\u001b[1;33m.\u001b[0m\u001b[0mapply_defaults\u001b[0m\u001b[1;33m(\u001b[0m\u001b[1;33m)\u001b[0m\u001b[1;33m\u001b[0m\u001b[1;33m\u001b[0m\u001b[0m\n\u001b[0;32m     91\u001b[0m     \u001b[0mbound_kwargs\u001b[0m \u001b[1;33m=\u001b[0m \u001b[0mbound_arguments\u001b[0m\u001b[1;33m.\u001b[0m\u001b[0marguments\u001b[0m\u001b[1;33m\u001b[0m\u001b[1;33m\u001b[0m\u001b[0m\n",
      "\u001b[1;32m~\\anaconda3\\envs\\tf_env\\lib\\site-packages\\tensorflow\\python\\util\\traceback_utils.py\u001b[0m in \u001b[0;36m?\u001b[1;34m(*args, **kwargs)\u001b[0m\n\u001b[0;32m    151\u001b[0m     \u001b[1;32mexcept\u001b[0m \u001b[0mException\u001b[0m \u001b[1;32mas\u001b[0m \u001b[0me\u001b[0m\u001b[1;33m:\u001b[0m\u001b[1;33m\u001b[0m\u001b[1;33m\u001b[0m\u001b[0m\n\u001b[0;32m    152\u001b[0m       \u001b[0mfiltered_tb\u001b[0m \u001b[1;33m=\u001b[0m \u001b[0m_process_traceback_frames\u001b[0m\u001b[1;33m(\u001b[0m\u001b[0me\u001b[0m\u001b[1;33m.\u001b[0m\u001b[0m__traceback__\u001b[0m\u001b[1;33m)\u001b[0m\u001b[1;33m\u001b[0m\u001b[1;33m\u001b[0m\u001b[0m\n\u001b[0;32m    153\u001b[0m       \u001b[1;32mraise\u001b[0m \u001b[0me\u001b[0m\u001b[1;33m.\u001b[0m\u001b[0mwith_traceback\u001b[0m\u001b[1;33m(\u001b[0m\u001b[0mfiltered_tb\u001b[0m\u001b[1;33m)\u001b[0m \u001b[1;32mfrom\u001b[0m \u001b[1;32mNone\u001b[0m\u001b[1;33m\u001b[0m\u001b[1;33m\u001b[0m\u001b[0m\n\u001b[0;32m    154\u001b[0m     \u001b[1;32mfinally\u001b[0m\u001b[1;33m:\u001b[0m\u001b[1;33m\u001b[0m\u001b[1;33m\u001b[0m\u001b[0m\n\u001b[1;32m--> 155\u001b[1;33m       \u001b[1;32mdel\u001b[0m \u001b[0mfiltered_tb\u001b[0m\u001b[1;33m\u001b[0m\u001b[1;33m\u001b[0m\u001b[0m\n\u001b[0m",
      "\u001b[1;32m~\\anaconda3\\envs\\tf_env\\lib\\site-packages\\tensorflow\\python\\util\\dispatch.py\u001b[0m in \u001b[0;36m?\u001b[1;34m(*args, **kwargs)\u001b[0m\n\u001b[0;32m   1264\u001b[0m         \u001b[0mresult\u001b[0m \u001b[1;33m=\u001b[0m \u001b[0mdispatch\u001b[0m\u001b[1;33m(\u001b[0m\u001b[0mop_dispatch_handler\u001b[0m\u001b[1;33m,\u001b[0m \u001b[0margs\u001b[0m\u001b[1;33m,\u001b[0m \u001b[0mkwargs\u001b[0m\u001b[1;33m)\u001b[0m\u001b[1;33m\u001b[0m\u001b[1;33m\u001b[0m\u001b[0m\n\u001b[0;32m   1265\u001b[0m         \u001b[1;32mif\u001b[0m \u001b[0mresult\u001b[0m \u001b[1;32mis\u001b[0m \u001b[1;32mnot\u001b[0m \u001b[0mOpDispatcher\u001b[0m\u001b[1;33m.\u001b[0m\u001b[0mNOT_SUPPORTED\u001b[0m\u001b[1;33m:\u001b[0m\u001b[1;33m\u001b[0m\u001b[1;33m\u001b[0m\u001b[0m\n\u001b[0;32m   1266\u001b[0m           \u001b[1;32mreturn\u001b[0m \u001b[0mresult\u001b[0m\u001b[1;33m\u001b[0m\u001b[1;33m\u001b[0m\u001b[0m\n\u001b[0;32m   1267\u001b[0m         \u001b[1;32melse\u001b[0m\u001b[1;33m:\u001b[0m\u001b[1;33m\u001b[0m\u001b[1;33m\u001b[0m\u001b[0m\n\u001b[1;32m-> 1268\u001b[1;33m           \u001b[1;32mraise\u001b[0m\u001b[1;33m\u001b[0m\u001b[1;33m\u001b[0m\u001b[0m\n\u001b[0m",
      "\u001b[1;32m~\\anaconda3\\envs\\tf_env\\lib\\site-packages\\tensorflow\\python\\ops\\math_ops.py\u001b[0m in \u001b[0;36m?\u001b[1;34m(input_tensor, axis, keepdims, name)\u001b[0m\n\u001b[0;32m   2590\u001b[0m   \u001b[0mkeepdims\u001b[0m \u001b[1;33m=\u001b[0m \u001b[1;32mFalse\u001b[0m \u001b[1;32mif\u001b[0m \u001b[0mkeepdims\u001b[0m \u001b[1;32mis\u001b[0m \u001b[1;32mNone\u001b[0m \u001b[1;32melse\u001b[0m \u001b[0mbool\u001b[0m\u001b[1;33m(\u001b[0m\u001b[0mkeepdims\u001b[0m\u001b[1;33m)\u001b[0m\u001b[1;33m\u001b[0m\u001b[1;33m\u001b[0m\u001b[0m\n\u001b[0;32m   2591\u001b[0m   return _may_reduce_to_scalar(\n\u001b[0;32m   2592\u001b[0m       \u001b[0mkeepdims\u001b[0m\u001b[1;33m,\u001b[0m \u001b[0maxis\u001b[0m\u001b[1;33m,\u001b[0m\u001b[1;33m\u001b[0m\u001b[1;33m\u001b[0m\u001b[0m\n\u001b[0;32m   2593\u001b[0m       gen_math_ops.mean(\n\u001b[1;32m-> 2594\u001b[1;33m           \u001b[0minput_tensor\u001b[0m\u001b[1;33m,\u001b[0m \u001b[0m_ReductionDims\u001b[0m\u001b[1;33m(\u001b[0m\u001b[0minput_tensor\u001b[0m\u001b[1;33m,\u001b[0m \u001b[0maxis\u001b[0m\u001b[1;33m)\u001b[0m\u001b[1;33m,\u001b[0m \u001b[0mkeepdims\u001b[0m\u001b[1;33m,\u001b[0m\u001b[1;33m\u001b[0m\u001b[1;33m\u001b[0m\u001b[0m\n\u001b[0m\u001b[0;32m   2595\u001b[0m           name=name))\n",
      "\u001b[1;32m~\\anaconda3\\envs\\tf_env\\lib\\site-packages\\tensorflow\\python\\ops\\math_ops.py\u001b[0m in \u001b[0;36m?\u001b[1;34m(x, axis)\u001b[0m\n\u001b[0;32m   2094\u001b[0m     \u001b[1;32mif\u001b[0m \u001b[0mx_rank\u001b[0m\u001b[1;33m:\u001b[0m\u001b[1;33m\u001b[0m\u001b[1;33m\u001b[0m\u001b[0m\n\u001b[0;32m   2095\u001b[0m       \u001b[1;32mreturn\u001b[0m \u001b[0mconstant_op\u001b[0m\u001b[1;33m.\u001b[0m\u001b[0mconstant\u001b[0m\u001b[1;33m(\u001b[0m\u001b[0mnp\u001b[0m\u001b[1;33m.\u001b[0m\u001b[0marange\u001b[0m\u001b[1;33m(\u001b[0m\u001b[0mx_rank\u001b[0m\u001b[1;33m,\u001b[0m \u001b[0mdtype\u001b[0m\u001b[1;33m=\u001b[0m\u001b[0mnp\u001b[0m\u001b[1;33m.\u001b[0m\u001b[0mint32\u001b[0m\u001b[1;33m)\u001b[0m\u001b[1;33m)\u001b[0m\u001b[1;33m\u001b[0m\u001b[1;33m\u001b[0m\u001b[0m\n\u001b[0;32m   2096\u001b[0m     \u001b[1;32melse\u001b[0m\u001b[1;33m:\u001b[0m\u001b[1;33m\u001b[0m\u001b[1;33m\u001b[0m\u001b[0m\n\u001b[0;32m   2097\u001b[0m       \u001b[1;31m# Otherwise, we rely on Range and Rank to do the right thing at run-time.\u001b[0m\u001b[1;33m\u001b[0m\u001b[1;33m\u001b[0m\u001b[0m\n\u001b[1;32m-> 2098\u001b[1;33m       \u001b[1;32mreturn\u001b[0m \u001b[0mrange\u001b[0m\u001b[1;33m(\u001b[0m\u001b[1;36m0\u001b[0m\u001b[1;33m,\u001b[0m \u001b[0marray_ops\u001b[0m\u001b[1;33m.\u001b[0m\u001b[0mrank\u001b[0m\u001b[1;33m(\u001b[0m\u001b[0mx\u001b[0m\u001b[1;33m)\u001b[0m\u001b[1;33m)\u001b[0m\u001b[1;33m\u001b[0m\u001b[1;33m\u001b[0m\u001b[0m\n\u001b[0m",
      "\u001b[1;32m~\\anaconda3\\envs\\tf_env\\lib\\site-packages\\tensorflow\\python\\util\\traceback_utils.py\u001b[0m in \u001b[0;36m?\u001b[1;34m(*args, **kwargs)\u001b[0m\n\u001b[0;32m    151\u001b[0m     \u001b[1;32mexcept\u001b[0m \u001b[0mException\u001b[0m \u001b[1;32mas\u001b[0m \u001b[0me\u001b[0m\u001b[1;33m:\u001b[0m\u001b[1;33m\u001b[0m\u001b[1;33m\u001b[0m\u001b[0m\n\u001b[0;32m    152\u001b[0m       \u001b[0mfiltered_tb\u001b[0m \u001b[1;33m=\u001b[0m \u001b[0m_process_traceback_frames\u001b[0m\u001b[1;33m(\u001b[0m\u001b[0me\u001b[0m\u001b[1;33m.\u001b[0m\u001b[0m__traceback__\u001b[0m\u001b[1;33m)\u001b[0m\u001b[1;33m\u001b[0m\u001b[1;33m\u001b[0m\u001b[0m\n\u001b[0;32m    153\u001b[0m       \u001b[1;32mraise\u001b[0m \u001b[0me\u001b[0m\u001b[1;33m.\u001b[0m\u001b[0mwith_traceback\u001b[0m\u001b[1;33m(\u001b[0m\u001b[0mfiltered_tb\u001b[0m\u001b[1;33m)\u001b[0m \u001b[1;32mfrom\u001b[0m \u001b[1;32mNone\u001b[0m\u001b[1;33m\u001b[0m\u001b[1;33m\u001b[0m\u001b[0m\n\u001b[0;32m    154\u001b[0m     \u001b[1;32mfinally\u001b[0m\u001b[1;33m:\u001b[0m\u001b[1;33m\u001b[0m\u001b[1;33m\u001b[0m\u001b[0m\n\u001b[1;32m--> 155\u001b[1;33m       \u001b[1;32mdel\u001b[0m \u001b[0mfiltered_tb\u001b[0m\u001b[1;33m\u001b[0m\u001b[1;33m\u001b[0m\u001b[0m\n\u001b[0m",
      "\u001b[1;32m~\\anaconda3\\envs\\tf_env\\lib\\site-packages\\tensorflow\\python\\util\\dispatch.py\u001b[0m in \u001b[0;36m?\u001b[1;34m(*args, **kwargs)\u001b[0m\n\u001b[0;32m   1264\u001b[0m         \u001b[0mresult\u001b[0m \u001b[1;33m=\u001b[0m \u001b[0mdispatch\u001b[0m\u001b[1;33m(\u001b[0m\u001b[0mop_dispatch_handler\u001b[0m\u001b[1;33m,\u001b[0m \u001b[0margs\u001b[0m\u001b[1;33m,\u001b[0m \u001b[0mkwargs\u001b[0m\u001b[1;33m)\u001b[0m\u001b[1;33m\u001b[0m\u001b[1;33m\u001b[0m\u001b[0m\n\u001b[0;32m   1265\u001b[0m         \u001b[1;32mif\u001b[0m \u001b[0mresult\u001b[0m \u001b[1;32mis\u001b[0m \u001b[1;32mnot\u001b[0m \u001b[0mOpDispatcher\u001b[0m\u001b[1;33m.\u001b[0m\u001b[0mNOT_SUPPORTED\u001b[0m\u001b[1;33m:\u001b[0m\u001b[1;33m\u001b[0m\u001b[1;33m\u001b[0m\u001b[0m\n\u001b[0;32m   1266\u001b[0m           \u001b[1;32mreturn\u001b[0m \u001b[0mresult\u001b[0m\u001b[1;33m\u001b[0m\u001b[1;33m\u001b[0m\u001b[0m\n\u001b[0;32m   1267\u001b[0m         \u001b[1;32melse\u001b[0m\u001b[1;33m:\u001b[0m\u001b[1;33m\u001b[0m\u001b[1;33m\u001b[0m\u001b[0m\n\u001b[1;32m-> 1268\u001b[1;33m           \u001b[1;32mraise\u001b[0m\u001b[1;33m\u001b[0m\u001b[1;33m\u001b[0m\u001b[0m\n\u001b[0m",
      "\u001b[1;32m~\\anaconda3\\envs\\tf_env\\lib\\site-packages\\tensorflow\\python\\ops\\math_ops.py\u001b[0m in \u001b[0;36m?\u001b[1;34m(start, limit, delta, dtype, name)\u001b[0m\n\u001b[0;32m   2065\u001b[0m     \u001b[0mstart\u001b[0m \u001b[1;33m=\u001b[0m \u001b[0mcast\u001b[0m\u001b[1;33m(\u001b[0m\u001b[0mstart\u001b[0m\u001b[1;33m,\u001b[0m \u001b[0minferred_dtype\u001b[0m\u001b[1;33m)\u001b[0m\u001b[1;33m\u001b[0m\u001b[1;33m\u001b[0m\u001b[0m\n\u001b[0;32m   2066\u001b[0m     \u001b[0mlimit\u001b[0m \u001b[1;33m=\u001b[0m \u001b[0mcast\u001b[0m\u001b[1;33m(\u001b[0m\u001b[0mlimit\u001b[0m\u001b[1;33m,\u001b[0m \u001b[0minferred_dtype\u001b[0m\u001b[1;33m)\u001b[0m\u001b[1;33m\u001b[0m\u001b[1;33m\u001b[0m\u001b[0m\n\u001b[0;32m   2067\u001b[0m     \u001b[0mdelta\u001b[0m \u001b[1;33m=\u001b[0m \u001b[0mcast\u001b[0m\u001b[1;33m(\u001b[0m\u001b[0mdelta\u001b[0m\u001b[1;33m,\u001b[0m \u001b[0minferred_dtype\u001b[0m\u001b[1;33m)\u001b[0m\u001b[1;33m\u001b[0m\u001b[1;33m\u001b[0m\u001b[0m\n\u001b[0;32m   2068\u001b[0m \u001b[1;33m\u001b[0m\u001b[0m\n\u001b[1;32m-> 2069\u001b[1;33m     \u001b[1;32mreturn\u001b[0m \u001b[0mgen_math_ops\u001b[0m\u001b[1;33m.\u001b[0m\u001b[0m_range\u001b[0m\u001b[1;33m(\u001b[0m\u001b[0mstart\u001b[0m\u001b[1;33m,\u001b[0m \u001b[0mlimit\u001b[0m\u001b[1;33m,\u001b[0m \u001b[0mdelta\u001b[0m\u001b[1;33m,\u001b[0m \u001b[0mname\u001b[0m\u001b[1;33m=\u001b[0m\u001b[0mname\u001b[0m\u001b[1;33m)\u001b[0m\u001b[1;33m\u001b[0m\u001b[1;33m\u001b[0m\u001b[0m\n\u001b[0m",
      "\u001b[1;32m~\\anaconda3\\envs\\tf_env\\lib\\site-packages\\tensorflow\\python\\ops\\gen_math_ops.py\u001b[0m in \u001b[0;36m?\u001b[1;34m(start, limit, delta, name)\u001b[0m\n\u001b[0;32m   8021\u001b[0m       \u001b[1;32mreturn\u001b[0m \u001b[0m_result\u001b[0m\u001b[1;33m\u001b[0m\u001b[1;33m\u001b[0m\u001b[0m\n\u001b[0;32m   8022\u001b[0m     \u001b[1;32mexcept\u001b[0m \u001b[0m_core\u001b[0m\u001b[1;33m.\u001b[0m\u001b[0m_NotOkStatusException\u001b[0m \u001b[1;32mas\u001b[0m \u001b[0me\u001b[0m\u001b[1;33m:\u001b[0m\u001b[1;33m\u001b[0m\u001b[1;33m\u001b[0m\u001b[0m\n\u001b[0;32m   8023\u001b[0m       \u001b[0m_ops\u001b[0m\u001b[1;33m.\u001b[0m\u001b[0mraise_from_not_ok_status\u001b[0m\u001b[1;33m(\u001b[0m\u001b[0me\u001b[0m\u001b[1;33m,\u001b[0m \u001b[0mname\u001b[0m\u001b[1;33m)\u001b[0m\u001b[1;33m\u001b[0m\u001b[1;33m\u001b[0m\u001b[0m\n\u001b[0;32m   8024\u001b[0m     \u001b[1;32mexcept\u001b[0m \u001b[0m_core\u001b[0m\u001b[1;33m.\u001b[0m\u001b[0m_FallbackException\u001b[0m\u001b[1;33m:\u001b[0m\u001b[1;33m\u001b[0m\u001b[1;33m\u001b[0m\u001b[0m\n\u001b[1;32m-> 8025\u001b[1;33m       \u001b[1;32mpass\u001b[0m\u001b[1;33m\u001b[0m\u001b[1;33m\u001b[0m\u001b[0m\n\u001b[0m\u001b[0;32m   8026\u001b[0m     \u001b[1;32mtry\u001b[0m\u001b[1;33m:\u001b[0m\u001b[1;33m\u001b[0m\u001b[1;33m\u001b[0m\u001b[0m\n\u001b[0;32m   8027\u001b[0m       return _range_eager_fallback(\n\u001b[0;32m   8028\u001b[0m           start, limit, delta, name=name, ctx=_ctx)\n",
      "\u001b[1;31mKeyboardInterrupt\u001b[0m: "
     ]
    }
   ],
   "source": [
    "history = model.fit(train_ds,\n",
    "                    epochs=initial_epochs,\n",
    "                    validation_data=val_ds)"
   ]
  }
 ],
 "metadata": {
  "kernelspec": {
   "display_name": "Python tf_env",
   "language": "python",
   "name": "tf_env"
  },
  "language_info": {
   "codemirror_mode": {
    "name": "ipython",
    "version": 3
   },
   "file_extension": ".py",
   "mimetype": "text/x-python",
   "name": "python",
   "nbconvert_exporter": "python",
   "pygments_lexer": "ipython3",
   "version": "3.9.21"
  }
 },
 "nbformat": 4,
 "nbformat_minor": 5
}
